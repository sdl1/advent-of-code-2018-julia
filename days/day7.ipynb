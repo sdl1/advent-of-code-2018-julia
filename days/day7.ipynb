{
 "cells": [
  {
   "cell_type": "code",
   "execution_count": 136,
   "metadata": {},
   "outputs": [
    {
     "name": "stdout",
     "output_type": "stream",
     "text": [
      "[\"Step A must be finished before step I can begin.\", \"Step M must be finished before step Q can begin.\"]\n",
      "Array{Char,1}[['A', 'I'], ['M', 'Q']]\n"
     ]
    }
   ],
   "source": [
    "include(\"../utils.jl\")\n",
    "data = getdata(\"../data/7\")\n",
    "println(data[1:2])\n",
    "function parsedata(d)\n",
    "    m = match(r\"Step ([A-Z]) must be finished before step ([A-Z]) can begin.\", d)\n",
    "    pre = m.captures[1][1]\n",
    "    post = m.captures[2][1]\n",
    "    return [pre, post]\n",
    "end\n",
    "data = map(parsedata, data)\n",
    "println(data[1:2])"
   ]
  },
  {
   "cell_type": "code",
   "execution_count": 137,
   "metadata": {},
   "outputs": [
    {
     "name": "stdout",
     "output_type": "stream",
     "text": [
      "Dict('E'=>['M', 'Y', 'G'],'Z'=>['H', 'F', 'S', 'N', 'P', 'V'],'X'=>['N', 'J', 'S', 'D', 'K', 'R', 'B'],'B'=>[],'C'=>['K'],'D'=>['B', 'Y', 'C', 'K'],'A'=>[],'R'=>['Y', 'S', 'T', 'F', 'L', 'P', 'Z', 'B'],'G'=>[],'N'=>['G', 'O', 'L', 'T', 'I', 'W', 'S', 'D'],'Q'=>['M', 'O', 'W', 'K', 'Y'],'M'=>['A'],'K'=>['B'],'P'=>['C', 'D', 'E', 'F', 'V', 'A'],'O'=>['E', 'A', 'C'],'I'=>['A', 'U', 'E', 'F', 'Y', 'V', 'H'],'F'=>['H', 'D'],'H'=>['E', 'M', 'K', 'G'],'J'=>['Z', 'R', 'I', 'L', 'U', 'N'],'W'=>['B'],'S'=>['B', 'P', 'I', 'G', 'O', 'Q', 'L', 'F', 'W', 'V'],'T'=>['K', 'F', 'I', 'B', 'V', 'Q', 'E'],'U'=>['W', 'O', 'V'],'L'=>['K', 'V', 'Q', 'U', 'F', 'C', 'Y'],'Y'=>[],'V'=>['M'])\n"
     ]
    }
   ],
   "source": [
    "preconditions = Dict{Char,Array{Char,1}}()\n",
    "for d in data\n",
    "    pre, post = d[1], d[2]\n",
    "    if post in keys(preconditions)\n",
    "        push!(preconditions[post], pre)\n",
    "    else\n",
    "        preconditions[post] = [pre]\n",
    "    end\n",
    "    if !(pre in keys(preconditions))\n",
    "        preconditions[pre] = Array{Char,1}()\n",
    "    end\n",
    "end\n",
    "println(preconditions)\n",
    "preconditions_save = deepcopy(preconditions);"
   ]
  },
  {
   "cell_type": "code",
   "execution_count": 138,
   "metadata": {},
   "outputs": [
    {
     "name": "stdout",
     "output_type": "stream",
     "text": [
      "ABGKCMVWYDEHFOPQUILSTNZRJX\n"
     ]
    }
   ],
   "source": [
    "preconditions = deepcopy(preconditions_save)\n",
    "\n",
    "function get_ready_steps(preconditions)\n",
    "    ready = Array{Char,1}()\n",
    "    for pair in preconditions\n",
    "        if isempty(pair[2])\n",
    "            push!(ready, pair[1])\n",
    "        end\n",
    "    end\n",
    "    # Find first step alphabetically\n",
    "    sort!(ready)\n",
    "    return ready\n",
    "end\n",
    "\n",
    "function take_action(preconditions, nextstep)\n",
    "    delete!(preconditions, nextstep)\n",
    "    for pair in preconditions\n",
    "        filter!(x -> x != nextstep, pair[2])\n",
    "    end\n",
    "end\n",
    "\n",
    "actions = Array{Char,1}()\n",
    "\n",
    "while !isempty(preconditions)\n",
    "    ready = get_ready_steps(preconditions)\n",
    "    nextstep = ready[1]\n",
    "    take_action(preconditions, nextstep)\n",
    "    push!(actions, nextstep)\n",
    "end\n",
    "println(join(actions))"
   ]
  },
  {
   "cell_type": "code",
   "execution_count": 139,
   "metadata": {},
   "outputs": [
    {
     "name": "stdout",
     "output_type": "stream",
     "text": [
      "ABGYKMWCEVDHOFQUPILTSNZRJX\n",
      "898\n"
     ]
    }
   ],
   "source": [
    "numworkers = 5\n",
    "preconditions = deepcopy(preconditions_save)\n",
    "actions = Array{Char,1}()\n",
    "workers = Array{Any,1}(undef,numworkers)\n",
    "fill!(workers, nothing)\n",
    "timetaken = 0\n",
    "while !isempty(preconditions) || any(workers.!==nothing)\n",
    "    ready = get_ready_steps(preconditions)\n",
    "    # Steps already being worked on\n",
    "    underprogress = map(x -> x[1], workers[workers.!=nothing])\n",
    "    # Assign to workers\n",
    "    for step in ready\n",
    "        if step in underprogress continue end\n",
    "        k = findall(workers.==nothing)\n",
    "        if !isempty(k)\n",
    "            workers[k[1]] = [step, Int(step)-4]\n",
    "        end\n",
    "    end\n",
    "    # Now either no more ready actions, or no free workers\n",
    "    # Work to next action\n",
    "    # Find next action to complete\n",
    "    timesleft = map(x -> x[2], workers[workers.!=nothing])\n",
    "    dt = minimum(timesleft)\n",
    "    for w in workers[workers.!=nothing]\n",
    "        w[2] -= dt\n",
    "    end\n",
    "    timetaken += dt\n",
    "    for i in 1:length(workers)\n",
    "        if workers[i]==nothing continue end\n",
    "        w = workers[i]\n",
    "        if w[2]==0\n",
    "            take_action(preconditions, w[1])\n",
    "            push!(actions, w[1])\n",
    "            workers[i] = nothing\n",
    "        end\n",
    "    end\n",
    "end\n",
    "println(join(actions))\n",
    "println(timetaken)"
   ]
  }
 ],
 "metadata": {
  "kernelspec": {
   "display_name": "Julia 1.0.2",
   "language": "julia",
   "name": "julia-1.0"
  },
  "language_info": {
   "file_extension": ".jl",
   "mimetype": "application/julia",
   "name": "julia",
   "version": "1.0.2"
  }
 },
 "nbformat": 4,
 "nbformat_minor": 2
}
