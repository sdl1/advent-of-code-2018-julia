{
 "cells": [
  {
   "cell_type": "code",
   "execution_count": 45,
   "metadata": {},
   "outputs": [
    {
     "data": {
      "text/plain": [
       "71940"
      ]
     },
     "execution_count": 45,
     "metadata": {},
     "output_type": "execute_result"
    }
   ],
   "source": [
    "# 465 players; last marble is worth 71940 points\n",
    "nplayers = 465\n",
    "lastmarble = 71940"
   ]
  },
  {
   "cell_type": "code",
   "execution_count": 3,
   "metadata": {},
   "outputs": [],
   "source": [
    "mutable struct Node\n",
    "    data::Int\n",
    "    prev\n",
    "    next\n",
    "end"
   ]
  },
  {
   "cell_type": "code",
   "execution_count": 33,
   "metadata": {},
   "outputs": [],
   "source": [
    "# Circular linked list\n",
    "\n",
    "function node_get_init(data)\n",
    "    node = Node(data, nothing, nothing)\n",
    "    node.prev = node\n",
    "    node.next = node\n",
    "    return node\n",
    "end\n",
    "\n",
    "function node_add_after(node::Node, data::Int)\n",
    "    # prev<->this<->next\n",
    "    # prev<->this<->newnode<->next\n",
    "    newnode = Node(data, node, node.next)\n",
    "    node.next.prev = newnode\n",
    "    node.next = newnode\n",
    "    return newnode\n",
    "end\n",
    "\n",
    "function node_step_forward(node::Node, steps::Int)\n",
    "    for s=1:steps\n",
    "        node = node.next\n",
    "    end\n",
    "    return node\n",
    "end\n",
    "\n",
    "function node_step_back(node::Node, steps::Int)\n",
    "    for s=1:steps\n",
    "        node = node.prev\n",
    "    end\n",
    "    return node\n",
    "end\n",
    "\n",
    "function node_delete(node)\n",
    "    # prev<->this<->next\n",
    "    # prev<->next\n",
    "    # Doesn't check for degenerate case\n",
    "    node.prev.next = node.next\n",
    "    node.next.prev = node.prev\n",
    "    return node.next\n",
    "end\n",
    "\n",
    "node = node_get_init(0)\n",
    "@assert node.data==0 && node.next.data==0 && node.prev.data==0\n",
    "node = node_add_after(node, 1)\n",
    "# 0<->1\n",
    "@assert node.data==1 && node.next.data==0 && node.prev.data==0 && node.next.next.data==1\n",
    "node = node_add_after(node, 2)\n",
    "# 0<->1<->2\n",
    "@assert node.data==2\n",
    "@assert node.next.data==0\n",
    "@assert node.next.next.data==1\n",
    "@assert node.next.next.next.data==2\n",
    "@assert node.next.next.next.next.data==0\n",
    "@assert node.prev.data==1\n",
    "@assert node.prev.prev.data==0\n",
    "@assert node.prev.prev.prev.data==2\n",
    "\n",
    "node = node_step_forward(node, 5)\n",
    "@assert node.data==1\n",
    "node = node_step_back(node, 7)\n",
    "@assert node.data==0"
   ]
  },
  {
   "cell_type": "code",
   "execution_count": 46,
   "metadata": {},
   "outputs": [
    {
     "data": {
      "text/plain": [
       "get_winning_score (generic function with 1 method)"
      ]
     },
     "execution_count": 46,
     "metadata": {},
     "output_type": "execute_result"
    }
   ],
   "source": [
    "function get_winning_score(nplayers, lastmarble)\n",
    "    node = node_get_init(0)\n",
    "    scores = zeros(Int, nplayers)\n",
    "    player = 1\n",
    "    for marble = 1:lastmarble\n",
    "        if marble%23==0\n",
    "            scores[player] += marble\n",
    "            node = node_step_back(node, 7)\n",
    "            scores[player] += node.data\n",
    "            node = node_delete(node)\n",
    "        else\n",
    "            node = node_step_forward(node, 1)\n",
    "            node = node_add_after(node, marble)\n",
    "        end\n",
    "        player = player%(nplayers) + 1\n",
    "    end\n",
    "    return maximum(scores)\n",
    "end"
   ]
  },
  {
   "cell_type": "code",
   "execution_count": 47,
   "metadata": {},
   "outputs": [
    {
     "name": "stdout",
     "output_type": "stream",
     "text": [
      "384475\n"
     ]
    }
   ],
   "source": [
    "println(get_winning_score(nplayers, lastmarble))"
   ]
  },
  {
   "cell_type": "code",
   "execution_count": 48,
   "metadata": {},
   "outputs": [
    {
     "name": "stdout",
     "output_type": "stream",
     "text": [
      "3187566597\n"
     ]
    }
   ],
   "source": [
    "println(get_winning_score(nplayers, lastmarble*100))"
   ]
  }
 ],
 "metadata": {
  "kernelspec": {
   "display_name": "Julia 1.0.2",
   "language": "julia",
   "name": "julia-1.0"
  },
  "language_info": {
   "file_extension": ".jl",
   "mimetype": "application/julia",
   "name": "julia",
   "version": "1.0.2"
  }
 },
 "nbformat": 4,
 "nbformat_minor": 2
}
