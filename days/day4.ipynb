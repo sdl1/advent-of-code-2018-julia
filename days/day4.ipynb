{
 "cells": [
  {
   "cell_type": "code",
   "execution_count": 83,
   "metadata": {},
   "outputs": [
    {
     "name": "stdout",
     "output_type": "stream",
     "text": [
      "[\"[1518-10-05 00:10] falls asleep\", \"[1518-07-22 23:53] Guard #1949 begins shift\"]\n",
      "DateTime[1518-10-05T00:10:00, 1518-07-22T23:53:00, 1518-07-06T00:55:00]\n"
     ]
    }
   ],
   "source": [
    "include(\"../utils.jl\")\n",
    "data = getdata(\"../data/4\")\n",
    "using Dates\n",
    "\n",
    "println(data[1:2])\n",
    "\n",
    "function parsedata(d)\n",
    "    c = match(r\"\\[(\\d*)-(\\d*)-(\\d*) (.*):(.*)\\] (.*)\", d).captures\n",
    "    date = map(x->parse(Int,x), c[1:end-1])\n",
    "    date = DateTime(date[1], date[2], date[3], date[4], date[5])\n",
    "    id = -1\n",
    "    if c[end]==\"falls asleep\"\n",
    "        action = -1\n",
    "    elseif c[end]==\"wakes up\"\n",
    "        action = 1\n",
    "    else\n",
    "        # Begins shift\n",
    "        action = 0\n",
    "        id = parse(Int, match(r\".*#(\\d*) .*\", c[end]).captures[1])\n",
    "    end\n",
    "    return date, action, id\n",
    "end\n",
    "\n",
    "dates = map(x -> parsedata(x)[1], data)\n",
    "actions = map(x -> parsedata(x)[2], data)\n",
    "ids = map(x -> parsedata(x)[3], data)\n",
    "println(dates[1:3])\n",
    "\n",
    "p = sortperm(dates)\n",
    "dates = dates[p]\n",
    "actions = actions[p]\n",
    "ids = ids[p];"
   ]
  },
  {
   "cell_type": "code",
   "execution_count": 84,
   "metadata": {},
   "outputs": [
    {
     "name": "stdout",
     "output_type": "stream",
     "text": [
      "21083\n"
     ]
    }
   ],
   "source": [
    "activeid = -1\n",
    "startsleep = 0\n",
    "maxid = maximum(ids)\n",
    "asleep = Dict{Int, Dict{Int,Int}}()\n",
    "for i in ids\n",
    "    asleep[i] = Dict{Int,Int}()\n",
    "end\n",
    "for i=1:length(dates)\n",
    "    if actions[i]==0\n",
    "        activeid = ids[i]\n",
    "        startsleep = 0\n",
    "    elseif actions[i]==-1\n",
    "        startsleep = Dates.minute(dates[i])\n",
    "    else\n",
    "        stopsleep = Dates.minute(dates[i])\n",
    "        for minute = startsleep:stopsleep-1\n",
    "            asleep[activeid][minute] = get(asleep[activeid], minute, 0) + 1\n",
    "        end\n",
    "    end\n",
    "end\n",
    "\n",
    "# Total minutes asleep\n",
    "totalasleep = Dict{Int,Int}()\n",
    "for i in ids\n",
    "    if i!=-1\n",
    "        totalasleep[i] = sum(values(asleep[i]))\n",
    "    end\n",
    "end\n",
    "maxsleeper_id = findmax(totalasleep)[2]\n",
    "maxminute = findmax(asleep[maxsleeper_id])[2]\n",
    "println(maxsleeper_id*maxminute)"
   ]
  },
  {
   "cell_type": "code",
   "execution_count": 85,
   "metadata": {},
   "outputs": [
    {
     "name": "stdout",
     "output_type": "stream",
     "text": [
      "53024\n"
     ]
    }
   ],
   "source": [
    "maxasleep = Dict{Int,Int}()\n",
    "for i in ids\n",
    "    if i!=-1 && !isempty(asleep[i])\n",
    "        maxasleep[i] = maximum(values(asleep[i]))\n",
    "    end\n",
    "end\n",
    "maxsleeper_id = findmax(maxasleep)[2]\n",
    "maxminute = findmax(asleep[maxsleeper_id])[2]\n",
    "println(maxsleeper_id*maxminute)"
   ]
  }
 ],
 "metadata": {
  "kernelspec": {
   "display_name": "Julia 1.0.2",
   "language": "julia",
   "name": "julia-1.0"
  },
  "language_info": {
   "file_extension": ".jl",
   "mimetype": "application/julia",
   "name": "julia",
   "version": "1.0.2"
  }
 },
 "nbformat": 4,
 "nbformat_minor": 2
}
