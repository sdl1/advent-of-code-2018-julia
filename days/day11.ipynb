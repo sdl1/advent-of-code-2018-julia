{
 "cells": [
  {
   "cell_type": "code",
   "execution_count": 35,
   "metadata": {},
   "outputs": [],
   "source": [
    "serial = 1788;\n",
    "N = 300;"
   ]
  },
  {
   "cell_type": "code",
   "execution_count": 36,
   "metadata": {},
   "outputs": [],
   "source": [
    "function hundreds_digit(n)\n",
    "    return Int(floor(mod(n,1000)/100))\n",
    "end\n",
    "@assert hundreds_digit(100)==1\n",
    "@assert hundreds_digit(4325)==3\n",
    "@assert hundreds_digit(10)==0\n",
    "@assert hundreds_digit(876543)==5\n",
    "\n",
    "function get_power(coord, serial)\n",
    "    rackid = coord[1] + 10\n",
    "    power = rackid*coord[2]\n",
    "    power += serial\n",
    "    power *= rackid\n",
    "    power = hundreds_digit(power) - 5\n",
    "    return power\n",
    "end\n",
    "@assert get_power([122,79], 57)==-5"
   ]
  },
  {
   "cell_type": "code",
   "execution_count": 63,
   "metadata": {},
   "outputs": [
    {
     "name": "stdout",
     "output_type": "stream",
     "text": [
      "(31, CartesianIndex(235, 35))\n"
     ]
    }
   ],
   "source": [
    "function get_power_grid(N, serial)\n",
    "    grid = zeros(Int,N,N)\n",
    "    for j=1:N\n",
    "        for i=1:N\n",
    "            grid[i,j] = get_power([i,j], serial)\n",
    "        end\n",
    "    end\n",
    "    return grid\n",
    "end\n",
    "\n",
    "function reduce_grid(grid, m)\n",
    "    N = size(grid,1)\n",
    "    out = zeros(Int, N-m, N-m)\n",
    "    for j=1:N-m\n",
    "        for i=1:N-m\n",
    "            out[i,j] = sum(grid[i:i+m-1,j:j+m-1])\n",
    "        end\n",
    "    end\n",
    "    return out\n",
    "end\n",
    "\n",
    "function get_best(powergrid, serial, m)\n",
    "    grid = reduce_grid(powergrid, m)\n",
    "    return findmax(grid)\n",
    "end\n",
    "powergrid = get_power_grid(N, serial)\n",
    "println(get_best(powergrid, serial, 3))"
   ]
  },
  {
   "cell_type": "code",
   "execution_count": 75,
   "metadata": {},
   "outputs": [
    {
     "name": "stdout",
     "output_type": "stream",
     "text": [
      "(65, CartesianIndex(142, 265)), 7\n"
     ]
    }
   ],
   "source": [
    "maxsearch = 10\n",
    "best = Array{Any}(undef, maxsearch)\n",
    "for m=1:maxsearch\n",
    "    best[m] = get_best(powergrid, serial, m)\n",
    "end\n",
    "powers = map(x -> x[1], best)\n",
    "bestsize = findmax(powers)[2]\n",
    "println(\"$(best[bestsize]), $bestsize\")"
   ]
  }
 ],
 "metadata": {
  "kernelspec": {
   "display_name": "Julia 1.0.2",
   "language": "julia",
   "name": "julia-1.0"
  },
  "language_info": {
   "file_extension": ".jl",
   "mimetype": "application/julia",
   "name": "julia",
   "version": "1.0.2"
  }
 },
 "nbformat": 4,
 "nbformat_minor": 2
}
