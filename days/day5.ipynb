{
 "cells": [
  {
   "cell_type": "code",
   "execution_count": 54,
   "metadata": {},
   "outputs": [
    {
     "name": "stdout",
     "output_type": "stream",
     "text": [
      "SubString{String}[\"H\", \"K\", \"k\", \"O\", \"o\", \"h\", \"a\", \"A\", \"X\", \"x\"]\n",
      "50000\n"
     ]
    }
   ],
   "source": [
    "include(\"../utils.jl\")\n",
    "data = getdata(\"../data/5\")\n",
    "data = split(data[1],\"\")\n",
    "println(data[1:10])\n",
    "println(length(data))"
   ]
  },
  {
   "cell_type": "code",
   "execution_count": 66,
   "metadata": {},
   "outputs": [
    {
     "name": "stdout",
     "output_type": "stream",
     "text": [
      "11364\n"
     ]
    }
   ],
   "source": [
    "function match(a, b)\n",
    "    return ( a!=b && (lowercase(a)==lowercase(b)) )\n",
    "end\n",
    "\n",
    "function react(polymer)\n",
    "    i=1\n",
    "    while i<length(polymer)\n",
    "        if match(polymer[i], polymer[i+1])\n",
    "            deleteat!(polymer, i)\n",
    "            deleteat!(polymer, i)\n",
    "            if i>1\n",
    "                i -= 1\n",
    "            end\n",
    "        else\n",
    "            i += 1\n",
    "        end\n",
    "    end\n",
    "    return polymer\n",
    "end\n",
    "\n",
    "polymer = react(copy(data))\n",
    "println(length(polymer))"
   ]
  },
  {
   "cell_type": "code",
   "execution_count": 67,
   "metadata": {},
   "outputs": [
    {
     "name": "stdout",
     "output_type": "stream",
     "text": [
      "4212\n"
     ]
    }
   ],
   "source": [
    "remove_element(polymer, e) = filter(x -> x!=e && x!=uppercase(e), polymer)\n",
    "newcounts = [length(react(remove_element(polymer, e))) for e in elements]\n",
    "println(minimum(newcounts))"
   ]
  }
 ],
 "metadata": {
  "kernelspec": {
   "display_name": "Julia 1.0.2",
   "language": "julia",
   "name": "julia-1.0"
  },
  "language_info": {
   "file_extension": ".jl",
   "mimetype": "application/julia",
   "name": "julia",
   "version": "1.0.2"
  }
 },
 "nbformat": 4,
 "nbformat_minor": 2
}
