{
 "cells": [
  {
   "cell_type": "code",
   "execution_count": 32,
   "metadata": {},
   "outputs": [
    {
     "name": "stdout",
     "output_type": "stream",
     "text": [
      "[7, 11, 6, 3, 5, 5, 3, 6, 1, 7]\n"
     ]
    }
   ],
   "source": [
    "include(\"../utils.jl\")\n",
    "tape = getdata(\"../data/8\")[1]\n",
    "tape = map(x -> parse(Int,x), split(tape))\n",
    "println(tape[1:10])"
   ]
  },
  {
   "cell_type": "code",
   "execution_count": 7,
   "metadata": {},
   "outputs": [],
   "source": [
    "mutable struct Node\n",
    "    numchildren::Int\n",
    "    numdata::Int\n",
    "    children::Array{Node,1}\n",
    "    data::Array{Int,1}\n",
    "end"
   ]
  },
  {
   "cell_type": "code",
   "execution_count": 33,
   "metadata": {},
   "outputs": [],
   "source": [
    "function build_node(tape, i)\n",
    "    # Start at index i in tape\n",
    "    node = Node(tape[i], tape[i+1], Array{Node,1}(), Array{Int,1}())\n",
    "    # Get children\n",
    "    i = i+2\n",
    "    for child in 1:node.numchildren\n",
    "        childnode, i = build_node(tape, i)\n",
    "        push!(node.children, childnode)\n",
    "    end\n",
    "    # Now metadata\n",
    "    for m in 1:node.numdata\n",
    "        push!(node.data, tape[i])\n",
    "        i += 1\n",
    "    end\n",
    "    # Return start of next node\n",
    "    return node, i\n",
    "end\n",
    "\n",
    "head, i = build_node(tape, 1);"
   ]
  },
  {
   "cell_type": "code",
   "execution_count": 34,
   "metadata": {},
   "outputs": [
    {
     "name": "stdout",
     "output_type": "stream",
     "text": [
      "36307\n"
     ]
    }
   ],
   "source": [
    "function sumdata(node)\n",
    "    S = sum(node.data)\n",
    "    for child in node.children\n",
    "        S += sumdata(child)\n",
    "    end\n",
    "    return S\n",
    "end\n",
    "\n",
    "println(sumdata(head))"
   ]
  },
  {
   "cell_type": "code",
   "execution_count": 49,
   "metadata": {},
   "outputs": [
    {
     "name": "stdout",
     "output_type": "stream",
     "text": [
      "25154\n"
     ]
    }
   ],
   "source": [
    "function value(node)\n",
    "    if isempty(node.children)\n",
    "        return sum(node.data)\n",
    "    end\n",
    "    V = 0\n",
    "    for d in node.data[node.data.<=node.numchildren]\n",
    "        V += value(node.children[d])\n",
    "    end\n",
    "    return V\n",
    "end\n",
    "\n",
    "println(value(head))"
   ]
  }
 ],
 "metadata": {
  "kernelspec": {
   "display_name": "Julia 1.0.2",
   "language": "julia",
   "name": "julia-1.0"
  },
  "language_info": {
   "file_extension": ".jl",
   "mimetype": "application/julia",
   "name": "julia",
   "version": "1.0.2"
  }
 },
 "nbformat": 4,
 "nbformat_minor": 2
}
