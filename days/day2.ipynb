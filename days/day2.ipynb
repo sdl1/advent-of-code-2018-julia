{
 "cells": [
  {
   "cell_type": "code",
   "execution_count": 1,
   "metadata": {},
   "outputs": [
    {
     "name": "stdout",
     "output_type": "stream",
     "text": [
      "[\"lsrivfotzgdxpkefaqmuiygchj\", \"lsrivfotzqdxpkeraqmewygchj\"]\n"
     ]
    }
   ],
   "source": [
    "include(\"../utils.jl\")\n",
    "data = getdata(\"../data/2\");\n",
    "println(data[1:2])"
   ]
  },
  {
   "cell_type": "code",
   "execution_count": 2,
   "metadata": {},
   "outputs": [
    {
     "name": "stdout",
     "output_type": "stream",
     "text": [
      "7688\n"
     ]
    }
   ],
   "source": [
    "function countchars(s)\n",
    "    counts = Dict{Char,Int}()\n",
    "    for char in s\n",
    "        counts[char] = get(counts, char, 0) + 1;\n",
    "    end\n",
    "    return counts\n",
    "end\n",
    "\n",
    "counts = map(countchars, data)\n",
    "\n",
    "twos = map(x -> 2 in values(x), counts)\n",
    "threes = map(x -> 3 in values(x), counts)\n",
    "\n",
    "println(sum(twos)sum(threes))\n"
   ]
  },
  {
   "cell_type": "code",
   "execution_count": 3,
   "metadata": {},
   "outputs": [
    {
     "name": "stdout",
     "output_type": "stream",
     "text": [
      "lsrivmotzbdxpkxnaqmuwcchj\n"
     ]
    }
   ],
   "source": [
    "function stringtoints(s)\n",
    "    return map(Int, collect(s))\n",
    "end\n",
    "\n",
    "function intstostring(x)\n",
    "    return join(map(Char, x))\n",
    "end\n",
    "\n",
    "intarrays = map(stringtoints, data)\n",
    "N = length(intarrays)\n",
    "strlen = length(intarrays[1])\n",
    "found = false\n",
    "for i = 1:N\n",
    "    for j = i+1:N\n",
    "        diff = abs.(intarrays[i]-intarrays[j])\n",
    "        if sum(diff.==0)==strlen-1\n",
    "            found = true\n",
    "            println( intstostring( intarrays[i][diff.==0]) )\n",
    "            break\n",
    "        end\n",
    "    end\n",
    "    if found break end\n",
    "end\n",
    "\n"
   ]
  }
 ],
 "metadata": {
  "kernelspec": {
   "display_name": "Julia 1.0.2",
   "language": "julia",
   "name": "julia-1.0"
  },
  "language_info": {
   "file_extension": ".jl",
   "mimetype": "application/julia",
   "name": "julia",
   "version": "1.0.2"
  }
 },
 "nbformat": 4,
 "nbformat_minor": 2
}
