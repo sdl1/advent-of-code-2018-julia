{
 "cells": [
  {
   "cell_type": "code",
   "execution_count": 115,
   "metadata": {},
   "outputs": [
    {
     "name": "stdout",
     "output_type": "stream",
     "text": [
      "Array{Int64,1}[[165, 169], [334, 217]]\n",
      "50\n"
     ]
    }
   ],
   "source": [
    "include(\"../utils.jl\")\n",
    "data = getdata(\"../data/6\")\n",
    "#data = getdata(\"../testdat\")\n",
    "function parsedata(d)\n",
    "    r = match(r\"(\\d*), (\\d*)\", d)\n",
    "    coords = [r.captures[1], r.captures[2]]\n",
    "    return map(x -> parse(Int, x), coords)\n",
    "end\n",
    "data = map(parsedata, data)\n",
    "println(data[1:2])\n",
    "println(length(data))"
   ]
  },
  {
   "cell_type": "code",
   "execution_count": 116,
   "metadata": {},
   "outputs": [
    {
     "name": "stdout",
     "output_type": "stream",
     "text": [
      "349, 349\n"
     ]
    }
   ],
   "source": [
    "function taxicab(A::Array{Int,2}, B::Array{Int,2})\n",
    "    return sum(abs.(A - B))\n",
    "end\n",
    "\n",
    "xcoords = map(x -> x[1], data)\n",
    "ycoords = map(x -> x[2], data)\n",
    "\n",
    "maxX = maximum(xcoords)\n",
    "maxY = maximum(ycoords)\n",
    "println(\"$maxX, $maxY\")\n",
    "\n",
    "grid = zeros(Int, maxX, maxY)\n",
    "for i=1:maxX\n",
    "    for j=1:maxY\n",
    "        pt = [i, j]\n",
    "        distances = map(x -> taxicab(x, pt), data)\n",
    "        minid = findmin(distances)\n",
    "        # Check for ties\n",
    "        if sum(distances.==minid[1])>1\n",
    "            grid[i,j] = 0\n",
    "        else\n",
    "            grid[i,j] = minid[2]\n",
    "        end\n",
    "    end\n",
    "end"
   ]
  },
  {
   "cell_type": "code",
   "execution_count": 117,
   "metadata": {},
   "outputs": [
    {
     "name": "stdout",
     "output_type": "stream",
     "text": [
      "Set([47, 32, 2, 40, 21, 39, 26, 7, 35, 34, 42, 10, 22, 24, 4, 37, 3, 28, 38, 31, 27, 36, 48, 15, 33, 30])\n"
     ]
    }
   ],
   "source": [
    "# Infinite at edges\n",
    "infinite = Set{Int}()\n",
    "for i=1:maxX\n",
    "    push!(infinite, grid[i,1])\n",
    "    push!(infinite, grid[i,maxY])\n",
    "end\n",
    "for i=1:maxY\n",
    "    push!(infinite, grid[1,i])\n",
    "    push!(infinite, grid[maxX,i])\n",
    "end\n",
    "# Remove tied locations\n",
    "delete!(infinite, 0)\n",
    "println(infinite)"
   ]
  },
  {
   "cell_type": "code",
   "execution_count": 125,
   "metadata": {},
   "outputs": [
    {
     "name": "stdout",
     "output_type": "stream",
     "text": [
      "[1151, 0, 0, 0, 1811, 1891, 0, 2211, 1764, 0, 3506, 712, 6047, 691, 0, 425, 5361, 1287, 2691, 1267, 0, 0, 805, 0, 1179, 0, 0, 0, 736, 0, 0, 0, 0, 0, 0, 0, 0, 0, 0, 0, 2805, 0, 1443, 1052, 2634, 1021, 0, 0, 3061, 875]\n",
      "6047\n"
     ]
    }
   ],
   "source": [
    "function count_in_grid(grid, n)\n",
    "    return sum(grid.==n)\n",
    "end\n",
    "\n",
    "ids = 1:length(data)\n",
    "counts = map(x -> count_in_grid(grid, x), ids)\n",
    "\n",
    "for i in infinite\n",
    "    counts[i] = 0\n",
    "end\n",
    "\n",
    "println(counts)\n",
    "println(maximum(counts))"
   ]
  },
  {
   "cell_type": "code",
   "execution_count": 126,
   "metadata": {},
   "outputs": [
    {
     "name": "stdout",
     "output_type": "stream",
     "text": [
      "46320\n"
     ]
    }
   ],
   "source": [
    "maxdist = 10000\n",
    "grid = zeros(Int, maxX, maxY)\n",
    "for i=1:maxX\n",
    "    for j=1:maxY\n",
    "        pt = [i,j]\n",
    "        distances = map(x -> taxicab(x, pt), data)\n",
    "        grid[i, j] = sum(distances)\n",
    "    end\n",
    "end\n",
    "println(sum(grid.<maxdist))"
   ]
  }
 ],
 "metadata": {
  "kernelspec": {
   "display_name": "Julia 1.0.2",
   "language": "julia",
   "name": "julia-1.0"
  },
  "language_info": {
   "file_extension": ".jl",
   "mimetype": "application/julia",
   "name": "julia",
   "version": "1.0.2"
  }
 },
 "nbformat": 4,
 "nbformat_minor": 2
}
