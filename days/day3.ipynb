{
 "cells": [
  {
   "cell_type": "code",
   "execution_count": 107,
   "metadata": {},
   "outputs": [
    {
     "name": "stdout",
     "output_type": "stream",
     "text": [
      "#1 @ 16,576: 17x14\n",
      "([17, 577], [17, 14])\n"
     ]
    }
   ],
   "source": [
    "include(\"../utils.jl\")\n",
    "data = getdata(\"../data/3\")\n",
    "\n",
    "function parsedata(d)\n",
    "    m = match(r\"#\\d* @ (\\d*),(\\d*): (\\d*)x(\\d*)\", d)\n",
    "    x = 1+parse(Int, m.captures[1])\n",
    "    y = 1+parse(Int, m.captures[2])\n",
    "    w = parse(Int, m.captures[3])\n",
    "    h = parse(Int, m.captures[4])\n",
    "    pos = [x,y]\n",
    "    dim = [w,h]\n",
    "    return pos, dim\n",
    "end\n",
    "\n",
    "println(data[1])\n",
    "data = map(parsedata, data)\n",
    "println(data[1])"
   ]
  },
  {
   "cell_type": "code",
   "execution_count": 108,
   "metadata": {},
   "outputs": [
    {
     "name": "stdout",
     "output_type": "stream",
     "text": [
      "111630\n"
     ]
    }
   ],
   "source": [
    "fabric = ones(1000,1000)\n",
    "for i = 1:length(data)\n",
    "    pos = data[i][1]\n",
    "    dim = data[i][2]\n",
    "    fabric[pos[1]:pos[1]+dim[1]-1, pos[2]:pos[2]+dim[2]-1] .-= 1.0\n",
    "end\n",
    "println(sum(fabric.<0))"
   ]
  },
  {
   "cell_type": "code",
   "execution_count": 121,
   "metadata": {},
   "outputs": [
    {
     "name": "stdout",
     "output_type": "stream",
     "text": [
      "Found, id=724\n"
     ]
    }
   ],
   "source": [
    "fabric = zeros(1000,1000)\n",
    "for i=1:length(data)\n",
    "    pos = data[i][1]\n",
    "    dim = data[i][2]\n",
    "    v = view(fabric, pos[1]:pos[1]+dim[1]-1, pos[2]:pos[2]+dim[2]-1)\n",
    "    v[v.!=0] .= -1\n",
    "    v[v.==0] .= i\n",
    "end\n",
    "for i=1:length(data)\n",
    "    pos = data[i][1]\n",
    "    dim = data[i][2]\n",
    "    patch = fabric[pos[1]:pos[1]+dim[1]-1, pos[2]:pos[2]+dim[2]-1]\n",
    "    if all(patch.==i)\n",
    "        println(\"Found, id=$i\")\n",
    "    end\n",
    "end"
   ]
  }
 ],
 "metadata": {
  "kernelspec": {
   "display_name": "Julia 1.0.2",
   "language": "julia",
   "name": "julia-1.0"
  },
  "language_info": {
   "file_extension": ".jl",
   "mimetype": "application/julia",
   "name": "julia",
   "version": "1.0.2"
  }
 },
 "nbformat": 4,
 "nbformat_minor": 2
}
