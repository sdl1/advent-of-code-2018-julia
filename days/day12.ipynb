{
 "cells": [
  {
   "cell_type": "code",
   "execution_count": 62,
   "metadata": {},
   "outputs": [
    {
     "name": "stdout",
     "output_type": "stream",
     "text": [
      "initial: SubString{String}[\".\", \"#\", \"#\", \".\", \"#\", \"#\", \".\", \".\", \".\", \"#\", \".\", \"#\", \"#\", \"#\", \".\", \".\", \"#\", \".\", \"#\", \".\", \".\", \"#\", \"#\", \".\", \".\", \"#\", \"#\", \"#\", \".\", \".\", \"#\", \"#\", \".\", \".\", \".\", \"#\", \"#\", \"#\", \"#\", \".\", \"#\", \".\", \".\", \".\", \"#\", \".\", \"#\", \"#\", \".\", \".\", \".\", \".\", \"#\", \"#\", \".\", \"#\", \".\", \"#\", \".\", \".\", \".\", \"#\", \".\", \".\", \".\", \"#\", \"#\", \"#\", \".\", \".\", \".\", \".\", \".\", \".\", \".\", \".\", \".\", \"#\", \"#\", \".\", \".\", \".\", \"#\", \"#\", \"#\", \".\", \".\", \".\", \".\", \".\", \"#\", \"#\", \".\", \"#\", \"#\", \".\", \"#\", \"#\"]\n",
      "Dict{Any,Any}(SubString{String}[\".\", \"#\", \"#\", \"#\", \"#\"]=>\".\",SubString{String}[\"#\", \".\", \"#\", \"#\", \"#\"]=>\"#\",SubString{String}[\".\", \".\", \"#\", \".\", \".\"]=>\".\",SubString{String}[\"#\", \"#\", \".\", \"#\", \"#\"]=>\"#\",SubString{String}[\".\", \"#\", \".\", \".\", \"#\"]=>\".\",SubString{String}[\"#\", \"#\", \".\", \".\", \".\"]=>\".\",SubString{String}[\".\", \".\", \".\", \".\", \"#\"]=>\".\",SubString{String}[\"#\", \".\", \"#\", \".\", \".\"]=>\"#\",SubString{String}[\"#\", \"#\", \".\", \".\", \"#\"]=>\"#\",SubString{String}[\".\", \".\", \".\", \"#\", \".\"]=>\".\",SubString{String}[\"#\", \".\", \"#\", \".\", \"#\"]=>\".\",SubString{String}[\"#\", \".\", \".\", \".\", \".\"]=>\".\",SubString{String}[\".\", \"#\", \".\", \".\", \".\"]=>\"#\",SubString{String}[\"#\", \"#\", \".\", \"#\", \".\"]=>\"#\",SubString{String}[\"#\", \".\", \"#\", \"#\", \".\"]=>\"#\",SubString{String}[\".\", \"#\", \"#\", \"#\", \".\"]=>\"#\",SubString{String}[\"#\", \"#\", \"#\", \".\", \".\"]=>\".\",SubString{String}[\".\", \".\", \".\", \".\", \".\"]=>\".\",SubString{String}[\".\", \"#\", \".\", \"#\", \"#\"]=>\"#\",SubString{String}[\"#\", \".\", \".\", \".\", \"#\"]=>\".\",SubString{String}[\"#\", \"#\", \"#\", \"#\", \"#\"]=>\".\",SubString{String}[\".\", \".\", \"#\", \".\", \"#\"]=>\"#\",SubString{String}[\"#\", \"#\", \"#\", \".\", \"#\"]=>\".\",SubString{String}[\"#\", \".\", \".\", \"#\", \".\"]=>\"#\",SubString{String}[\".\", \"#\", \"#\", \".\", \"#\"]=>\"#\",SubString{String}[\".\", \".\", \".\", \"#\", \"#\"]=>\"#\",SubString{String}[\".\", \".\", \"#\", \"#\", \".\"]=>\"#\",SubString{String}[\"#\", \".\", \".\", \"#\", \"#\"]=>\"#\",SubString{String}[\"#\", \"#\", \"#\", \"#\", \".\"]=>\"#\",SubString{String}[\".\", \"#\", \".\", \"#\", \".\"]=>\".\",SubString{String}[\".\", \".\", \"#\", \"#\", \"#\"]=>\".\",SubString{String}[\".\", \"#\", \"#\", \".\", \".\"]=>\"#\")\n"
     ]
    }
   ],
   "source": [
    "include(\"../utils.jl\")\n",
    "data = getdata(\"../data/12\")\n",
    "#println(data[1:4])\n",
    "initial = split(match(r\"initial state: (.*)\", data[1]).captures[1], \"\")\n",
    "println(\"initial: $initial\")\n",
    "rules = Dict() #{Array{Char,1}, Char}()\n",
    "for i=3:length(data)\n",
    "    m = match(r\"(.*) => (.*)\", data[i]).captures\n",
    "    pattern = split(m[1], \"\")\n",
    "    result = m[2]\n",
    "    rules[pattern] = m[2]\n",
    "end\n",
    "println(rules)"
   ]
  },
  {
   "cell_type": "code",
   "execution_count": 66,
   "metadata": {},
   "outputs": [
    {
     "name": "stdout",
     "output_type": "stream",
     "text": [
      "1184\n"
     ]
    }
   ],
   "source": [
    "offset = 30\n",
    "padding = [\".\" for i in 1:offset]\n",
    "state = copy(padding)\n",
    "append!(state, initial)\n",
    "append!(state, padding)\n",
    "\n",
    "function step_state(state, rules)\n",
    "    N = length(state)\n",
    "    m = 2\n",
    "    newstate = copy(state)\n",
    "    for i=m+1:N-m\n",
    "        pattern = state[i-m:i+m]\n",
    "        if pattern in keys(rules)\n",
    "            result = rules[pattern]\n",
    "        else\n",
    "            result = \".\"\n",
    "        end\n",
    "        newstate[i] = result\n",
    "    end\n",
    "    return newstate\n",
    "end\n",
    "\n",
    "function count_plant_numbers(state, offset)\n",
    "    idx = findall(state.==\"#\")\n",
    "    # Remove offset\n",
    "    idx .-= offset+1\n",
    "    return sum(idx)\n",
    "end\n",
    "\n",
    "#println(join(state))\n",
    "for step=1:20\n",
    "    state = step_state(state, rules)\n",
    "    #println(join(state))\n",
    "end\n",
    "println(count_plant_numbers(state, offset))"
   ]
  }
 ],
 "metadata": {
  "kernelspec": {
   "display_name": "Julia 1.0.2",
   "language": "julia",
   "name": "julia-1.0"
  },
  "language_info": {
   "file_extension": ".jl",
   "mimetype": "application/julia",
   "name": "julia",
   "version": "1.0.2"
  }
 },
 "nbformat": 4,
 "nbformat_minor": 2
}
